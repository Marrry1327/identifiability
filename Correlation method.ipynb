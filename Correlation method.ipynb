{
 "cells": [
  {
   "cell_type": "code",
   "execution_count": 146,
   "metadata": {
    "collapsed": true
   },
   "outputs": [],
   "source": [
    "import numpy as np\n",
    "import pandas as pd\n",
    "\n",
    "import seaborn as sns\n",
    "import matplotlib.pyplot as plt\n",
    "%matplotlib inline\n",
    "\n",
    "np.set_printoptions(suppress=True)"
   ]
  },
  {
   "cell_type": "code",
   "execution_count": 147,
   "metadata": {
    "collapsed": true
   },
   "outputs": [],
   "source": [
    "def model(funcs, t, q):\n",
    "    k01, k12, k21, m, a, b, G, h = q\n",
    "    cp1, cp2, x, y = funcs\n",
    "    dcp1 = -(k01 + k21)*cp1 + k12*cp2 + m*x\n",
    "    dcp2 = k21*cp1 - k12*cp2\n",
    "    dx = -m*x + y\n",
    "    dy = -a*(y - b*(G-h))\n",
    "    return [dcp1, dcp2, dx, dy]"
   ]
  },
  {
   "cell_type": "code",
   "execution_count": 156,
   "metadata": {
    "collapsed": true
   },
   "outputs": [],
   "source": [
    "def derivative_f(left, right, delta):\n",
    "    return (left - right)/(2*delta)"
   ]
  },
  {
   "cell_type": "code",
   "execution_count": 231,
   "metadata": {
    "collapsed": true
   },
   "outputs": [],
   "source": [
    "def sens(q, delta, y0, t):\n",
    "    a = []\n",
    "    sol_plus = []\n",
    "    sol_minus = []\n",
    "    \n",
    "    for j in range(len(q)):\n",
    "        plus_q = list(q)\n",
    "        plus_q[j] += delta\n",
    "        sol_plus.append(odeint(model, y0, t, args=(plus_q,)))\n",
    "        \n",
    "        minus_q = list(q)\n",
    "        minus_q[j] -= delta\n",
    "        sol_minus.append(odeint(model, y0, t, args=(minus_q,)))\n",
    "        \n",
    "    for k in range(len(t)):\n",
    "        if k != 0:\n",
    "            for i in range(len(funcs)):\n",
    "                a.append([derivative_f(sol_plus[j][k][i], sol_minus[j][k][i], delta) for j in range(len(q))])\n",
    "            \n",
    "    return np.matrix(a)"
   ]
  },
  {
   "cell_type": "code",
   "execution_count": 199,
   "metadata": {
    "collapsed": false
   },
   "outputs": [],
   "source": [
    "def corr_sens(q, delta, i, j, y0, t):\n",
    "    df = pd.DataFrame(data = sens(q, delta, y0, t))\n",
    "    return (df.corr()[i][j])"
   ]
  },
  {
   "cell_type": "code",
   "execution_count": 230,
   "metadata": {
    "collapsed": true
   },
   "outputs": [],
   "source": [
    "def total_corr(q, delta, small_delta, y0, t):\n",
    "    t_corr = np.zeros(len(q))\n",
    "    for i in range(len(q)):\n",
    "        for j in range(len(q)):\n",
    "            corr_val = abs(corr_sens(q, delta, i, j, y0, t))\n",
    "            if (j != i) and (corr_val >= (1 - small_delta)):\n",
    "                t_corr[i] += corr_val\n",
    "    return (t_corr)"
   ]
  },
  {
   "cell_type": "code",
   "execution_count": 201,
   "metadata": {
    "collapsed": true
   },
   "outputs": [],
   "source": [
    "def ident(q, delta, small_delta, y0, t):\n",
    "    StS = np.matrix(np.dot(sens(q, delta, y0, t).transpose(), sens(q, delta, y0, t)))\n",
    "    if (np.linalg.matrix_rank(StS) == len(sol)):\n",
    "        print(\"Localy Identifiable\")\n",
    "    else:\n",
    "        return total_corr(q, delta, small_delta, y0, t)"
   ]
  },
  {
   "cell_type": "code",
   "execution_count": 202,
   "metadata": {
    "collapsed": false
   },
   "outputs": [],
   "source": [
    "from scipy.integrate import odeint\n",
    "y0 = [0, 0, 10, 0]\n",
    "t = np.linspace(0, 10, 1001)\n",
    "q = np.array([0.064, 0.054, 0.056, 0.57, 0.065, 11.32, 100, 4.94])\n",
    "sol = odeint(model, y0, t, args=(q,))\n",
    "#idetifiability(funcs, q, 0.01)"
   ]
  },
  {
   "cell_type": "code",
   "execution_count": 232,
   "metadata": {
    "collapsed": false
   },
   "outputs": [],
   "source": [
    "def plot(sol):\n",
    "    plt.plot(t, sol[:, 0], 'b', label='cp1(t)')\n",
    "    plt.plot(t, sol[:, 1], 'g', label='cp2(t)')\n",
    "    plt.plot(t, sol[:, 2], 'r', label='x(t)')\n",
    "    plt.plot(t, sol[:, 3], 'y', label='y(t)')\n",
    "    plt.legend(loc='best')\n",
    "    plt.xlabel('t')\n",
    "    plt.grid()\n",
    "    plt.show()"
   ]
  },
  {
   "cell_type": "code",
   "execution_count": 233,
   "metadata": {
    "collapsed": false,
    "scrolled": true
   },
   "outputs": [
    {
     "data": {
      "text/plain": [
       "array([ 0.        ,  0.99129225,  0.99129225,  0.        ,  2.99207404,\n",
       "        2.99735799,  2.99735803,  2.99735803])"
      ]
     },
     "execution_count": 233,
     "metadata": {},
     "output_type": "execute_result"
    }
   ],
   "source": [
    "q = np.array([0.064, 0.054, 0.056, 0.57, 0.065, 11.32, 100, 4.94])\n",
    "delta = 0.0000001\n",
    "small_delta = 0.07\n",
    "total_corr(q, delta, small_delta, y0, t)"
   ]
  },
  {
   "cell_type": "code",
   "execution_count": 263,
   "metadata": {
    "collapsed": false
   },
   "outputs": [
    {
     "data": {
      "text/plain": [
       "matrix([[ 0.        ,  0.99129225,  0.99129225,  0.        ,  2.99207404,\n",
       "          2.99735799,  2.99735803,  2.99735803],\n",
       "        [ 0.        ,  0.99129225,  0.99129225,  0.        ,  2.99207404,\n",
       "          2.99735799,  2.99735803,  2.99735803],\n",
       "        [ 0.        ,  0.99129225,  0.99129225,  0.        ,  2.99207404,\n",
       "          2.99735799,  2.99735803,  2.99735803],\n",
       "        [ 0.80095966,  0.99129225,  0.99129225,  0.        ,  3.79303371,\n",
       "          2.99735799,  2.99735803,  2.99735803],\n",
       "        [ 5.00658164,  4.03368453,  4.09445265,  0.62140475,  5.0325242 ,\n",
       "          4.99514767,  4.99514805,  4.99514805]])"
      ]
     },
     "execution_count": 263,
     "metadata": {},
     "output_type": "execute_result"
    }
   ],
   "source": [
    "small_delta_list = [0.01, 0.05, 0.1, 0.2, 0.5]\n",
    "b = []\n",
    "for x in small_delta_list:\n",
    "    b.append(total_corr(q, delta, x, y0, t))\n",
    "np.matrix(b)"
   ]
  },
  {
   "cell_type": "code",
   "execution_count": 264,
   "metadata": {
    "collapsed": false
   },
   "outputs": [
    {
     "data": {
      "image/png": "[encoded data removed]",
      "text/plain": [
       "<matplotlib.figure.Figure at 0x288327877f0>"
      ]
     },
     "metadata": {},
     "output_type": "display_data"
    }
   ],
   "source": [
    "b = np.matrix(b)\n",
    "color = ['r', 'y', 'b', 'g', 'c', 'm', 'k', 'w']\n",
    "for i in range(len(q)):\n",
    "    plt.plot(small_delta_list[::-1], b[:, len(q) - i - 1], color[i], label=str(i))\n",
    "#plt.plot(small_delta_list, b[:, 1], 'r', label=str(1))\n",
    "plt.legend(loc='best')\n",
    "plt.xlabel('tasdasdasd')\n",
    "plt.grid()\n",
    "plt.show()"
   ]
  },
  {
   "cell_type": "code",
   "execution_count": 242,
   "metadata": {
    "collapsed": false
   },
   "outputs": [
    {
     "data": {
      "text/plain": [
       "matrix([[ 0.        ],\n",
       "        [ 3.13672205],\n",
       "        [ 5.00658164]])"
      ]
     },
     "execution_count": 242,
     "metadata": {},
     "output_type": "execute_result"
    }
   ],
   "source": []
  },
  {
   "cell_type": "code",
   "execution_count": 260,
   "metadata": {
    "collapsed": false
   },
   "outputs": [
    {
     "data": {
      "text/plain": [
       "array([ 0.5  ,  0.375,  0.25 ,  0.125,  0.   ])"
      ]
     },
     "execution_count": 260,
     "metadata": {},
     "output_type": "execute_result"
    }
   ],
   "source": [
    "small_delta_list[::-1]"
   ]
  },
  {
   "cell_type": "code",
   "execution_count": null,
   "metadata": {
    "collapsed": true
   },
   "outputs": [],
   "source": []
  }
 ],
 "metadata": {
  "kernelspec": {
   "display_name": "Python 3",
   "language": "python",
   "name": "python3"
  },
  "language_info": {
   "codemirror_mode": {
    "name": "ipython",
    "version": 3
   },
   "file_extension": ".py",
   "mimetype": "text/x-python",
   "name": "python",
   "nbconvert_exporter": "python",
   "pygments_lexer": "ipython3",
   "version": "3.6.0"
  }
 },
 "nbformat": 4,
 "nbformat_minor": 2
}
